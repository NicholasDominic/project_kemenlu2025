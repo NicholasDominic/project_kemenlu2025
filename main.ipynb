{
 "cells": [
  {
   "cell_type": "code",
   "execution_count": null,
   "id": "a9d04a78-7d0c-41d2-afd2-9bff36b9c473",
   "metadata": {},
   "outputs": [],
   "source": []
  },
  {
   "cell_type": "markdown",
   "id": "2aa9cb45-3f91-492b-8b98-5d584fb32ba7",
   "metadata": {},
   "source": [
    "# Pelatihan Kemenlu\n",
    "Tanggal: 02 Oktober 2025\n",
    "<br>Tempat: Grand Savero Hotel, Bogor"
   ]
  },
  {
   "cell_type": "markdown",
   "id": "54529929-4e4d-4d12-8b19-1442ad8e0695",
   "metadata": {},
   "source": [
    "* Basic I/O"
   ]
  },
  {
   "cell_type": "code",
   "execution_count": 1,
   "id": "86725fc1-9ea1-4f74-a6cf-97a33caf3170",
   "metadata": {},
   "outputs": [
    {
     "name": "stdout",
     "output_type": "stream",
     "text": [
      "Hello World!\n"
     ]
    }
   ],
   "source": [
    "print(\"Hello World!\")"
   ]
  },
  {
   "cell_type": "code",
   "execution_count": 2,
   "id": "fad5bbd5-3231-4bd0-bfd2-ca3777b197a7",
   "metadata": {},
   "outputs": [
    {
     "name": "stdin",
     "output_type": "stream",
     "text": [
      "Nama saya:  nico\n"
     ]
    }
   ],
   "source": [
    "a = input(\"Nama saya: \")"
   ]
  },
  {
   "cell_type": "code",
   "execution_count": 3,
   "id": "7884433e-c782-4d8f-9840-abb17a26637e",
   "metadata": {},
   "outputs": [
    {
     "name": "stdout",
     "output_type": "stream",
     "text": [
      "Halo! Nama saya: nico\n"
     ]
    }
   ],
   "source": [
    "print(\"Halo! Nama saya: {}\".format(a))"
   ]
  },
  {
   "cell_type": "markdown",
   "id": "934748e3-bfa7-41c7-b7f4-5e56af6300f6",
   "metadata": {},
   "source": [
    "* Arithmetics"
   ]
  },
  {
   "cell_type": "code",
   "execution_count": 4,
   "id": "30859052-5be1-4c4b-aa73-a969bb5dee7a",
   "metadata": {},
   "outputs": [],
   "source": [
    "x = 10\n",
    "y = 5"
   ]
  },
  {
   "cell_type": "code",
   "execution_count": 5,
   "id": "0ee38c1c-9ffc-4de5-ac87-b4baa95860de",
   "metadata": {},
   "outputs": [
    {
     "data": {
      "text/plain": [
       "15"
      ]
     },
     "execution_count": 5,
     "metadata": {},
     "output_type": "execute_result"
    }
   ],
   "source": [
    "x + y"
   ]
  },
  {
   "cell_type": "code",
   "execution_count": 6,
   "id": "5090e501-4037-41dc-92fb-de051e40094a",
   "metadata": {},
   "outputs": [
    {
     "data": {
      "text/plain": [
       "50"
      ]
     },
     "execution_count": 6,
     "metadata": {},
     "output_type": "execute_result"
    }
   ],
   "source": [
    "x * y"
   ]
  },
  {
   "cell_type": "code",
   "execution_count": 8,
   "id": "6ecd8254-e039-4188-a445-e22c24a04df6",
   "metadata": {},
   "outputs": [
    {
     "data": {
      "text/plain": [
       "100000"
      ]
     },
     "execution_count": 8,
     "metadata": {},
     "output_type": "execute_result"
    }
   ],
   "source": [
    "x ** y # 10 pangkat 5"
   ]
  },
  {
   "cell_type": "code",
   "execution_count": 7,
   "id": "9d74b4ff-f7ad-4d72-9b38-cb57f5b81978",
   "metadata": {},
   "outputs": [
    {
     "data": {
      "text/plain": [
       "2.0"
      ]
     },
     "execution_count": 7,
     "metadata": {},
     "output_type": "execute_result"
    }
   ],
   "source": [
    "x / y"
   ]
  },
  {
   "cell_type": "code",
   "execution_count": 9,
   "id": "16115b74-daf0-46cb-9743-6cd0ed127f78",
   "metadata": {},
   "outputs": [
    {
     "data": {
      "text/plain": [
       "6.333333333333333"
      ]
     },
     "execution_count": 9,
     "metadata": {},
     "output_type": "execute_result"
    }
   ],
   "source": [
    "19 / 3"
   ]
  },
  {
   "cell_type": "code",
   "execution_count": 10,
   "id": "dee5a665-3e63-4e73-bd01-0a5ecd02153f",
   "metadata": {},
   "outputs": [
    {
     "data": {
      "text/plain": [
       "1"
      ]
     },
     "execution_count": 10,
     "metadata": {},
     "output_type": "execute_result"
    }
   ],
   "source": [
    "19 % 3 # sisa hasil bagi (modulus)"
   ]
  },
  {
   "cell_type": "code",
   "execution_count": 11,
   "id": "f6ea97cf-f8bf-4f69-8a41-a1bf04cafc05",
   "metadata": {},
   "outputs": [],
   "source": [
    "a = 32\n",
    "b = 5"
   ]
  },
  {
   "cell_type": "code",
   "execution_count": 12,
   "id": "feaee72d-47ec-4446-9b24-a10a03d27757",
   "metadata": {},
   "outputs": [
    {
     "name": "stdout",
     "output_type": "stream",
     "text": [
      "a dibagi b = 6, sisa = 2\n"
     ]
    }
   ],
   "source": [
    "print(\"a dibagi b = {}, sisa = {}\".format(a//b, a%b))"
   ]
  },
  {
   "cell_type": "code",
   "execution_count": null,
   "id": "d3d82c58-9ee8-437d-b848-fef3e07945f7",
   "metadata": {},
   "outputs": [],
   "source": []
  },
  {
   "cell_type": "code",
   "execution_count": null,
   "id": "a70f4e47-b6de-495c-8142-c93b09726249",
   "metadata": {},
   "outputs": [],
   "source": []
  },
  {
   "cell_type": "code",
   "execution_count": null,
   "id": "90aae9c8-d12c-4191-927c-c13198ffe44a",
   "metadata": {},
   "outputs": [],
   "source": []
  },
  {
   "cell_type": "markdown",
   "id": "b7f539ec-4ad1-48fc-b840-02c7d37f7401",
   "metadata": {},
   "source": [
    "### Selection & Repetition"
   ]
  },
  {
   "cell_type": "code",
   "execution_count": 21,
   "id": "459733b0-3925-44cb-a5c0-5edc2a0e0244",
   "metadata": {},
   "outputs": [
    {
     "name": "stdin",
     "output_type": "stream",
     "text": [
      "masukkan umur:  12\n",
      "gender:  f\n"
     ]
    },
    {
     "name": "stdout",
     "output_type": "stream",
     "text": [
      "di bawah umur\n",
      "perempuan\n"
     ]
    }
   ],
   "source": [
    "age = int(input(\"masukkan umur: \"))\n",
    "gender = input(\"gender: \")\n",
    "\n",
    "if age <= 1:\n",
    "    print(\"bayi\")\n",
    "elif age >= 1 and age < 13:\n",
    "    print(\"di bawah umur\")\n",
    "    if gender == \"f\":\n",
    "        print(\"perempuan\")\n",
    "    else:\n",
    "        print(\"laki-laki\")\n",
    "elif age < 20:\n",
    "    print(\"remaja\")\n",
    "else:\n",
    "    print(\"dewasa\")"
   ]
  },
  {
   "cell_type": "code",
   "execution_count": 30,
   "id": "49794505-7977-4af8-b42a-61c50378eaf5",
   "metadata": {},
   "outputs": [
    {
     "name": "stdout",
     "output_type": "stream",
     "text": [
      "10  hore!\n",
      "9\n",
      "8  hore!\n",
      "7\n",
      "6  hore!\n",
      "5\n",
      "4  hore!\n",
      "3\n",
      "2  hore!\n",
      "1\n"
     ]
    }
   ],
   "source": [
    "for i in range(10, 0, -1):\n",
    "    if i % 2 == 0:\n",
    "        print(i, \" hore!\")\n",
    "    else:\n",
    "        print(i)"
   ]
  },
  {
   "cell_type": "code",
   "execution_count": 33,
   "id": "ac8a76c9-582e-4ecd-8ef9-f8984cc22fc2",
   "metadata": {},
   "outputs": [
    {
     "name": "stdout",
     "output_type": "stream",
     "text": [
      "0\n",
      "1\n",
      "2\n"
     ]
    }
   ],
   "source": [
    "count = 0\n",
    "while count < 3:\n",
    "    print(count)\n",
    "    count += 1"
   ]
  },
  {
   "cell_type": "markdown",
   "id": "0867020f-0243-4077-9fa1-53d0811e5cc5",
   "metadata": {},
   "source": [
    "* List Comprehension"
   ]
  },
  {
   "cell_type": "code",
   "execution_count": 41,
   "id": "f4079bf0-84c5-4d43-a24b-b44753661ab1",
   "metadata": {},
   "outputs": [],
   "source": [
    "x = [i for i in range(10, 0, -1) if i % 2 == 0]"
   ]
  },
  {
   "cell_type": "code",
   "execution_count": 42,
   "id": "0f024845-b5d1-4215-9fde-41f1780f07b5",
   "metadata": {},
   "outputs": [
    {
     "name": "stdout",
     "output_type": "stream",
     "text": [
      "10\n",
      "8\n",
      "6\n",
      "4\n",
      "2\n"
     ]
    }
   ],
   "source": [
    "for i in x:\n",
    "    print(i)"
   ]
  },
  {
   "cell_type": "code",
   "execution_count": 61,
   "id": "8d29b330-460d-455d-b7d4-bba74b20e877",
   "metadata": {},
   "outputs": [],
   "source": [
    "a = {\n",
    "    \"nama\" : [\"a\", \"b\", \"c\"],\n",
    "    \"usia\" : [30, \"76\", 27],\n",
    "    \"alamat\" : [\"jakarta\", \"bandung\", \"bali\"]\n",
    "}"
   ]
  },
  {
   "cell_type": "code",
   "execution_count": 62,
   "id": "0a6de405-6e01-4041-87ee-826e347fb8a4",
   "metadata": {},
   "outputs": [
    {
     "data": {
      "text/plain": [
       "dict_keys(['nama', 'usia', 'alamat'])"
      ]
     },
     "execution_count": 62,
     "metadata": {},
     "output_type": "execute_result"
    }
   ],
   "source": [
    "a.keys()"
   ]
  },
  {
   "cell_type": "code",
   "execution_count": 63,
   "id": "28717bcb-6ef1-4097-a101-f9af260b5671",
   "metadata": {},
   "outputs": [
    {
     "data": {
      "text/plain": [
       "dict_values([['a', 'b', 'c'], [30, '76', 27], ['jakarta', 'bandung', 'bali']])"
      ]
     },
     "execution_count": 63,
     "metadata": {},
     "output_type": "execute_result"
    }
   ],
   "source": [
    "a.values()"
   ]
  },
  {
   "cell_type": "code",
   "execution_count": 66,
   "id": "6d85597e-bbca-4615-90f0-4bdf65c772f0",
   "metadata": {},
   "outputs": [
    {
     "name": "stdout",
     "output_type": "stream",
     "text": [
      "nama\n",
      "- a (tipe data = <class 'str'>)\n",
      "- b (tipe data = <class 'str'>)\n",
      "- c (tipe data = <class 'str'>)\n",
      "usia\n",
      "- 30 (tipe data = <class 'int'>)\n",
      "- 76 (tipe data = <class 'str'>)\n",
      "- 27 (tipe data = <class 'int'>)\n",
      "alamat\n",
      "- jakarta (tipe data = <class 'str'>)\n",
      "- bandung (tipe data = <class 'str'>)\n",
      "- bali (tipe data = <class 'str'>)\n"
     ]
    }
   ],
   "source": [
    "for i, j in a.items():\n",
    "    print(i)\n",
    "    for k in j:\n",
    "        print(\"- {} (tipe data = {})\".format(k, type(k)))\n",
    "    # print(\"\\n\")"
   ]
  },
  {
   "cell_type": "markdown",
   "id": "b6334000-0554-40a8-87e1-97efd7e52ae5",
   "metadata": {},
   "source": [
    "### Function"
   ]
  },
  {
   "cell_type": "code",
   "execution_count": 70,
   "id": "6ea9d4fc-0ac1-4ee4-81c9-e7d97498e259",
   "metadata": {},
   "outputs": [],
   "source": [
    "b = {\n",
    "    \"nama\" : [\"d\", \"e\", \"f\"],\n",
    "    \"usia\" : [31, 15, 27],\n",
    "    \"alamat\" : [\"medan\", \"bandung\", \"surabaya\"]\n",
    "}"
   ]
  },
  {
   "cell_type": "code",
   "execution_count": 68,
   "id": "1f468d83-2472-404e-a7d8-46a7706e2663",
   "metadata": {},
   "outputs": [],
   "source": [
    "def ekstrak_data(data):\n",
    "    for i, j in data.items():\n",
    "        print(i)\n",
    "        for k in j:\n",
    "            print(\"- {} (tipe data = {})\".format(k, type(k)))\n",
    "        # print(\"\\n\")"
   ]
  },
  {
   "cell_type": "code",
   "execution_count": 71,
   "id": "2961699e-627f-4ee4-950d-444644ef5877",
   "metadata": {},
   "outputs": [
    {
     "name": "stdout",
     "output_type": "stream",
     "text": [
      "nama\n",
      "- d (tipe data = <class 'str'>)\n",
      "- e (tipe data = <class 'str'>)\n",
      "- f (tipe data = <class 'str'>)\n",
      "usia\n",
      "- 31 (tipe data = <class 'int'>)\n",
      "- 15 (tipe data = <class 'int'>)\n",
      "- 27 (tipe data = <class 'int'>)\n",
      "alamat\n",
      "- medan (tipe data = <class 'str'>)\n",
      "- bandung (tipe data = <class 'str'>)\n",
      "- surabaya (tipe data = <class 'str'>)\n"
     ]
    }
   ],
   "source": [
    "ekstrak_data(data = b)"
   ]
  }
 ],
 "metadata": {
  "kernelspec": {
   "display_name": "Python 3 (ipykernel)",
   "language": "python",
   "name": "python3"
  },
  "language_info": {
   "codemirror_mode": {
    "name": "ipython",
    "version": 3
   },
   "file_extension": ".py",
   "mimetype": "text/x-python",
   "name": "python",
   "nbconvert_exporter": "python",
   "pygments_lexer": "ipython3",
   "version": "3.13.7"
  }
 },
 "nbformat": 4,
 "nbformat_minor": 5
}
